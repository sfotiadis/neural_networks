{
 "cells": [
  {
   "cell_type": "code",
   "execution_count": 1,
   "metadata": {
    "collapsed": true
   },
   "outputs": [],
   "source": [
    "import mnist_loader"
   ]
  },
  {
   "cell_type": "code",
   "execution_count": 2,
   "metadata": {
    "collapsed": false
   },
   "outputs": [],
   "source": [
    "import numpy as np"
   ]
  },
  {
   "cell_type": "code",
   "execution_count": 3,
   "metadata": {
    "collapsed": true
   },
   "outputs": [],
   "source": [
    "def sigmoid(z):\n",
    "    return 1.0/(1.0+np.exp(-z))\n",
    "\n",
    "def sigmoid_prime(z):\n",
    "    return sigmoid(z)*(1 - sigmoid(z))"
   ]
  },
  {
   "cell_type": "code",
   "execution_count": 4,
   "metadata": {
    "collapsed": true
   },
   "outputs": [],
   "source": [
    "def output_cost_derivative(a, y):\n",
    "    return (a - y)"
   ]
  },
  {
   "cell_type": "code",
   "execution_count": 53,
   "metadata": {
    "collapsed": false
   },
   "outputs": [],
   "source": [
    "class Network(object):\n",
    "\n",
    "    def __init__(self, inpt, hidden, output):\n",
    "        self.d0 = inpt\n",
    "        self.d1 = hidden\n",
    "        self.d2 = output\n",
    "        self.init_weights(self.d0, self.d1, self.d2)\n",
    "    \n",
    "    def init_weights(self, d0, d1, d2):\n",
    "        self.w1 = np.zeros([d1, d0])\n",
    "        self.b1 = np.zeros([d1, 1])\n",
    "        self.w2 = np.zeros([d2, d1])\n",
    "        self.b2 = np.zeros([d2, 1])\n",
    "        #     w1 = np.random.randn(d1, d0) / np.sqrt(d0)\n",
    "        #     b1 = np.random.randn(d1, 1) \n",
    "        #     w2 = np.random.randn(d2, d1) / np.sqrt(d1)\n",
    "        #     b2 = np.random.randn(d2, 1)\n",
    "        \n",
    "    def evaluate(self, data):\n",
    "        results = [(np.argmax(self.feedforward(x)), y) for (x, y) in data]\n",
    "        return sum(int(x==y) for x,y in results)\n",
    "\n",
    "    def feedforward(self, x):\n",
    "        z1 = np.dot(self.w1, x) + self.b1\n",
    "        a1 = sigmoid(z1)\n",
    "        z2 = np.dot(self.w2, a1) + self.b2\n",
    "        a2 = sigmoid(z2)\n",
    "        return a2\n",
    "\n",
    "def SGD(net, data, epochs, eta):\n",
    "\n",
    "    for i in range(epochs):\n",
    "        dw1 = np.zeros([net.d1, net.d0])\n",
    "        db1 = np.zeros([net.d1, 1])\n",
    "        dw2 = np.zeros([net.d2, net.d1])\n",
    "        db2 = np.zeros([net.d2, 1])\n",
    "        for x,y in data:\n",
    "            # forward pass\n",
    "            z1 = np.dot(net.w1, x) + net.b1\n",
    "            a1 = sigmoid(z1)\n",
    "            z2 = np.dot(net.w2, a1) + net.b2\n",
    "            a2 = sigmoid(z2)\n",
    "\n",
    "            # backprop\n",
    "            delta2 = output_cost_derivative(a2, y) * sigmoid_prime(z2)\n",
    "            dw2 += np.dot(delta2, a1.transpose())\n",
    "            db2 += delta2\n",
    "\n",
    "            delta1 = np.dot(net.w2.transpose(), delta2) * sigmoid_prime(z1)\n",
    "            dw1 += np.dot(delta1, x.transpose())\n",
    "            db1 += delta1\n",
    "\n",
    "        # update weights\n",
    "        net.w2 -= (eta/float(n)) * dw2\n",
    "        net.b2 -= (eta/float(n)) * db2\n",
    "        net.w1 -= (eta/float(n)) * dw1\n",
    "        net.b1 -= (eta/float(n)) * db1\n",
    "    \n",
    "#         print net.evaluate(data)"
   ]
  },
  {
   "cell_type": "code",
   "execution_count": 7,
   "metadata": {
    "collapsed": true
   },
   "outputs": [],
   "source": [
    "training_data, validation_data, test_data = mnist_loader.load_data_wrapper()"
   ]
  },
  {
   "cell_type": "code",
   "execution_count": 57,
   "metadata": {
    "collapsed": false
   },
   "outputs": [],
   "source": [
    "# %%timeit\n",
    "n=1000\n",
    "epochs = 30\n",
    "data = training_data[:n]\n",
    "eta = 3.0\n",
    "\n",
    "data = training_data[:n]\n",
    "inpt = data[0][0].shape[0]\n",
    "hidden = 10\n",
    "output = 10\n",
    "\n",
    "net = Network(inpt, hidden, output)"
   ]
  },
  {
   "cell_type": "code",
   "execution_count": 58,
   "metadata": {
    "collapsed": false
   },
   "outputs": [],
   "source": [
    "# %%timeit \n",
    "SGD(net, data, epochs, eta)"
   ]
  },
  {
   "cell_type": "code",
   "execution_count": 59,
   "metadata": {
    "collapsed": false
   },
   "outputs": [
    {
     "data": {
      "text/plain": [
       "array([[-0.22113814, -0.22113814, -0.22113814, -0.22113814, -0.22113814,\n",
       "        -0.22113814, -0.22113814, -0.22113814, -0.22113814, -0.22113814],\n",
       "       [-0.20590532, -0.20590532, -0.20590532, -0.20590532, -0.20590532,\n",
       "        -0.20590532, -0.20590532, -0.20590532, -0.20590532, -0.20590532],\n",
       "       [-0.21865228, -0.21865228, -0.21865228, -0.21865228, -0.21865228,\n",
       "        -0.21865228, -0.21865228, -0.21865228, -0.21865228, -0.21865228],\n",
       "       [-0.22631396, -0.22631396, -0.22631396, -0.22631396, -0.22631396,\n",
       "        -0.22631396, -0.22631396, -0.22631396, -0.22631396, -0.22631396],\n",
       "       [-0.21259947, -0.21259947, -0.21259947, -0.21259947, -0.21259947,\n",
       "        -0.21259947, -0.21259947, -0.21259947, -0.21259947, -0.21259947],\n",
       "       [-0.22743271, -0.22743271, -0.22743271, -0.22743271, -0.22743271,\n",
       "        -0.22743271, -0.22743271, -0.22743271, -0.22743271, -0.22743271],\n",
       "       [-0.22506704, -0.22506704, -0.22506704, -0.22506704, -0.22506704,\n",
       "        -0.22506704, -0.22506704, -0.22506704, -0.22506704, -0.22506704],\n",
       "       [-0.20058583, -0.20058583, -0.20058583, -0.20058583, -0.20058583,\n",
       "        -0.20058583, -0.20058583, -0.20058583, -0.20058583, -0.20058583],\n",
       "       [-0.23487847, -0.23487847, -0.23487847, -0.23487847, -0.23487847,\n",
       "        -0.23487847, -0.23487847, -0.23487847, -0.23487847, -0.23487847],\n",
       "       [-0.21746812, -0.21746812, -0.21746812, -0.21746812, -0.21746812,\n",
       "        -0.21746812, -0.21746812, -0.21746812, -0.21746812, -0.21746812]])"
      ]
     },
     "execution_count": 59,
     "metadata": {},
     "output_type": "execute_result"
    }
   ],
   "source": [
    "net.w2"
   ]
  },
  {
   "cell_type": "code",
   "execution_count": null,
   "metadata": {
    "collapsed": true
   },
   "outputs": [],
   "source": []
  }
 ],
 "metadata": {
  "kernelspec": {
   "display_name": "Python 2",
   "language": "python",
   "name": "python2"
  },
  "language_info": {
   "codemirror_mode": {
    "name": "ipython",
    "version": 2
   },
   "file_extension": ".py",
   "mimetype": "text/x-python",
   "name": "python",
   "nbconvert_exporter": "python",
   "pygments_lexer": "ipython2",
   "version": "2.7.10"
  }
 },
 "nbformat": 4,
 "nbformat_minor": 0
}
